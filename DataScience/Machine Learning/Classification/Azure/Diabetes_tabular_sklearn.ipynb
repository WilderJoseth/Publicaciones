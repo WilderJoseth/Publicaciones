{
  "cells": [
    {
      "cell_type": "markdown",
      "source": [
        "# Diabetes classification\n",
        "\n",
        "This is a basic example of supervised learning classification using tabular data.\n",
        "\n",
        "File information:\n",
        "\n",
        "* **File name**: diabetes.csv\n",
        "* **Features**:\n",
        "  * **PatientID**: ID\n",
        "  * **Pregnancie**: Number of times pregnant\n",
        "  * **PlasmaGlucose**: Plasma glucose concentration a 2 hours in an oral glucose tolerance test\n",
        "  * **DiastolicBloodPressure**: Diastolic blood pressure (mm Hg)\n",
        "  * **TricepsThickness**: Triceps skin fold thickness (mm)\n",
        "  * **SerumInsulin**: 2-Hour serum insulin (mu U/ml)\n",
        "  * **BMI**: Body mass index (weight in kg/(height in m)^2)\n",
        "  * **DiabetesPedigree**: Diabetes pedigree function\n",
        "  * **Age**: years\n",
        "* **Target variable**:\n",
        "  * **Diabetic**: 0 (no diabetic) or 1 (diabetic)"
      ],
      "metadata": {
        "nteract": {
          "transient": {
            "deleting": false
          }
        }
      }
    },
    {
      "cell_type": "markdown",
      "source": [
        "## 1. Login"
      ],
      "metadata": {
        "nteract": {
          "transient": {
            "deleting": false
          }
        }
      }
    },
    {
      "cell_type": "code",
      "source": [
        "from azure.ai.ml import MLClient\n",
        "from azure.identity import DefaultAzureCredential\n",
        "\n",
        "credential = DefaultAzureCredential()\n",
        "ml_client = MLClient.from_config(credential = credential)"
      ],
      "outputs": [],
      "execution_count": null,
      "metadata": {
        "gather": {
          "logged": 1722477669343
        }
      }
    },
    {
      "cell_type": "markdown",
      "source": [
        "## 2. Prepare data\n",
        "\n",
        "The data is stored in an storage account which is already connected to a Datastore type Azure Blob Storage. So, in order to make easy to get access, a data asset type file is used."
      ],
      "metadata": {
        "nteract": {
          "transient": {
            "deleting": false
          }
        }
      }
    },
    {
      "cell_type": "code",
      "source": [
        "from azure.ai.ml.entities import Data\n",
        "from azure.ai.ml.constants import AssetTypes\n",
        "import mltable"
      ],
      "outputs": [],
      "execution_count": null,
      "metadata": {
        "jupyter": {
          "source_hidden": false,
          "outputs_hidden": false
        },
        "nteract": {
          "transient": {
            "deleting": false
          }
        },
        "gather": {
          "logged": 1722477679089
        }
      }
    },
    {
      "cell_type": "markdown",
      "source": [
        "### 2.1. Create data asset (type file)"
      ],
      "metadata": {
        "nteract": {
          "transient": {
            "deleting": false
          }
        }
      }
    },
    {
      "cell_type": "code",
      "source": [
        "# File location\n",
        "datastore_name = \"workspacetabulardata\"\n",
        "file_name = \"diabetes.csv\"\n",
        "path = f\"azureml://datastores/{datastore_name}/paths/{file_name}\"\n",
        "\n",
        "# Data asset configuration\n",
        "data_asset_name = \"diabetes_tabular_file\"\n",
        "data_asset_version = \"1.0\"\n",
        "\n",
        "my_data = Data(\n",
        "    path = path,\n",
        "    type = AssetTypes.URI_FILE,\n",
        "    description = \"Diabetes dataset file\",\n",
        "    name = data_asset_name,\n",
        "    version = data_asset_version\n",
        ")\n",
        "\n",
        "# Create data asset\n",
        "ml_client.data.create_or_update(my_data)"
      ],
      "outputs": [],
      "execution_count": null,
      "metadata": {
        "jupyter": {
          "source_hidden": false,
          "outputs_hidden": false
        },
        "nteract": {
          "transient": {
            "deleting": false
          }
        },
        "gather": {
          "logged": 1722477689324
        }
      }
    },
    {
      "cell_type": "markdown",
      "source": [
        "### 2.2. Read data asset"
      ],
      "metadata": {
        "nteract": {
          "transient": {
            "deleting": false
          }
        }
      }
    },
    {
      "cell_type": "code",
      "source": [
        "# Get data asset\n",
        "data_asset = ml_client.data.get(name = data_asset_name, version = data_asset_version)\n",
        "\n",
        "# Read data asset\n",
        "path = {\n",
        "    \"file\": data_asset.path\n",
        "}\n",
        "\n",
        "tbl = mltable.from_delimited_files(paths = [path])\n",
        "df = tbl.to_pandas_dataframe()\n",
        "df.head()"
      ],
      "outputs": [],
      "execution_count": null,
      "metadata": {
        "jupyter": {
          "source_hidden": false,
          "outputs_hidden": false
        },
        "nteract": {
          "transient": {
            "deleting": false
          }
        },
        "gather": {
          "logged": 1722477700739
        }
      }
    },
    {
      "cell_type": "code",
      "source": [
        "df.info()"
      ],
      "outputs": [],
      "execution_count": null,
      "metadata": {
        "jupyter": {
          "source_hidden": false,
          "outputs_hidden": false
        },
        "nteract": {
          "transient": {
            "deleting": false
          }
        },
        "gather": {
          "logged": 1722477703882
        }
      }
    },
    {
      "cell_type": "markdown",
      "source": [
        "## 3. Project code"
      ],
      "metadata": {
        "nteract": {
          "transient": {
            "deleting": false
          }
        }
      }
    },
    {
      "cell_type": "code",
      "source": [
        "import pandas as pd\n",
        "import numpy as np\n",
        "from sklearn.model_selection import train_test_split\n",
        "from sklearn.linear_model import LogisticRegression\n",
        "from sklearn.metrics import roc_auc_score\n",
        "from sklearn.metrics import roc_curve"
      ],
      "outputs": [],
      "execution_count": null,
      "metadata": {
        "jupyter": {
          "source_hidden": false,
          "outputs_hidden": false
        },
        "nteract": {
          "transient": {
            "deleting": false
          }
        },
        "gather": {
          "logged": 1722477712164
        }
      }
    },
    {
      "cell_type": "code",
      "source": [
        "# Load the diabetes dataset\n",
        "print(\"Loading Data...\")\n",
        "data_asset = ml_client.data.get(name = data_asset_name, version = data_asset_version)\n",
        "tbl = mltable.from_delimited_files(paths = [{ \"file\": data_asset.path }])\n",
        "diabetes = tbl.to_pandas_dataframe()\n",
        "\n",
        "# Separate features and labels\n",
        "X = diabetes[['Pregnancies', 'PlasmaGlucose', 'DiastolicBloodPressure', 'TricepsThickness', 'SerumInsulin', 'BMI', 'DiabetesPedigree', 'Age']].values\n",
        "y = diabetes['Diabetic'].values\n",
        "\n",
        "# Split data into training set and test set\n",
        "X_train, X_test, y_train, y_test = train_test_split(X, y, test_size=0.30, random_state=0)\n",
        "\n",
        "# Set regularization hyperparameter\n",
        "reg = 0.01\n",
        "\n",
        "# Train a logistic regression model\n",
        "print('Training a logistic regression model with regularization rate of', reg)\n",
        "model = LogisticRegression(C = 1/reg, solver = \"liblinear\").fit(X_train, y_train)\n",
        "\n",
        "# Calculate accuracy\n",
        "y_hat = model.predict(X_test)\n",
        "acc = np.average(y_hat == y_test)\n",
        "print(\"Accuracy:\", acc)\n",
        "\n",
        "#  Calculate AUC\n",
        "y_scores = model.predict_proba(X_test)\n",
        "auc = roc_auc_score(y_test,y_scores[:,1])\n",
        "print(\"AUC: \" + str(auc))"
      ],
      "outputs": [],
      "execution_count": null,
      "metadata": {
        "jupyter": {
          "source_hidden": false,
          "outputs_hidden": false
        },
        "nteract": {
          "transient": {
            "deleting": false
          }
        },
        "gather": {
          "logged": 1722477713079
        }
      }
    }
  ],
  "metadata": {
    "kernelspec": {
      "name": "python310-sdkv2",
      "language": "python",
      "display_name": "Python 3.10 - SDK v2"
    },
    "language_info": {
      "name": "python",
      "version": "3.10.14",
      "mimetype": "text/x-python",
      "codemirror_mode": {
        "name": "ipython",
        "version": 3
      },
      "pygments_lexer": "ipython3",
      "nbconvert_exporter": "python",
      "file_extension": ".py"
    },
    "microsoft": {
      "ms_spell_check": {
        "ms_spell_check_language": "en"
      },
      "host": {
        "AzureML": {
          "notebookHasBeenCompleted": true
        }
      }
    },
    "kernel_info": {
      "name": "python310-sdkv2"
    },
    "nteract": {
      "version": "nteract-front-end@1.0.0"
    }
  },
  "nbformat": 4,
  "nbformat_minor": 2
}