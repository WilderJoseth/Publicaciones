{
  "cells": [
    {
      "cell_type": "markdown",
      "source": [
        "# Diabetes classification - Auto-MachineLearning\n",
        "\n",
        "This is a basic example of supervised learning classification using tabular data.\n",
        "\n",
        "File information:\n",
        "\n",
        "* **File name**: diabetes.csv\n",
        "* **Features**:\n",
        "  * **PatientID**: ID\n",
        "  * **Pregnancie**: Number of times pregnant\n",
        "  * **PlasmaGlucose**: Plasma glucose concentration a 2 hours in an oral glucose tolerance test\n",
        "  * **DiastolicBloodPressure**: Diastolic blood pressure (mm Hg)\n",
        "  * **TricepsThickness**: Triceps skin fold thickness (mm)\n",
        "  * **SerumInsulin**: 2-Hour serum insulin (mu U/ml)\n",
        "  * **BMI**: Body mass index (weight in kg/(height in m)^2)\n",
        "  * **DiabetesPedigree**: Diabetes pedigree function\n",
        "  * **Age**: years\n",
        "* **Target variable**:\n",
        "  * **Diabetic**: 0 (no diabetic) or 1 (diabetic)"
      ],
      "metadata": {
        "nteract": {
          "transient": {
            "deleting": false
          }
        }
      }
    },
    {
      "cell_type": "markdown",
      "source": [
        "## 1. Login"
      ],
      "metadata": {
        "nteract": {
          "transient": {
            "deleting": false
          }
        }
      }
    },
    {
      "cell_type": "code",
      "source": [
        "from azure.ai.ml import MLClient\n",
        "from azure.identity import DefaultAzureCredential\n",
        "\n",
        "credential = DefaultAzureCredential()\n",
        "ml_client = MLClient.from_config(credential = credential)"
      ],
      "outputs": [],
      "execution_count": null,
      "metadata": {
        "gather": {
          "logged": 1722477875333
        }
      }
    },
    {
      "cell_type": "markdown",
      "source": [
        "## 2. Prepare data\n",
        "\n",
        "The data is stored in an storage account (anonymous access allowed). So, in order to make easy to get access, a data asset type file is used."
      ],
      "metadata": {
        "nteract": {
          "transient": {
            "deleting": false
          }
        }
      }
    },
    {
      "cell_type": "code",
      "source": [
        "import mltable\n",
        "from mltable import MLTableHeaders, MLTableFileEncoding, DataType\n",
        "from azure.ai.ml.entities import Data\n",
        "from azure.ai.ml.constants import AssetTypes"
      ],
      "outputs": [],
      "execution_count": null,
      "metadata": {
        "jupyter": {
          "source_hidden": false,
          "outputs_hidden": false
        },
        "nteract": {
          "transient": {
            "deleting": false
          }
        },
        "gather": {
          "logged": 1722479994977
        }
      }
    },
    {
      "cell_type": "markdown",
      "source": [
        "### 2.1. Create data asset (MLTable)"
      ],
      "metadata": {
        "nteract": {
          "transient": {
            "deleting": false
          }
        }
      }
    },
    {
      "cell_type": "code",
      "source": [
        "# Identify storage location\n",
        "storage_account = \"stai20240731\"\n",
        "container_name = \"tabulardata\"\n",
        "file_name = \"diabetes.csv\"\n",
        "path = f\"wasbs://{container_name}@{storage_account}.blob.core.windows.net/{file_name}\"\n",
        "\n",
        "# Create path for data files\n",
        "paths = [{\"file\": path}]\n",
        "\n",
        "# Create schema as an MLTable\n",
        "tbl = mltable.from_delimited_files(\n",
        "    paths = paths,\n",
        "    delimiter = \",\",\n",
        "    header = MLTableHeaders.all_files_same_headers,\n",
        "    infer_column_types = True,\n",
        "    include_path_column = False,\n",
        "    encoding = MLTableFileEncoding.utf8\n",
        ")\n",
        "\n",
        "# Drop columns that does not help for training\n",
        "tbl = tbl.drop_columns([\"PatientID\"])\n",
        "\n",
        "# Show the first few records\n",
        "print(tbl.show(5))\n",
        "\n",
        "# Save the data loading steps in an MLTable file\n",
        "mltable_folder = \"./diabetes\"\n",
        "tbl.save(mltable_folder)\n",
        "\n",
        "# Define the Data asset object\n",
        "data_asset_name = \"diabetes_tabular_mltable\"\n",
        "data_asset_version = \"1.0\"\n",
        "\n",
        "my_data = Data(\n",
        "    path = mltable_folder,\n",
        "    type = AssetTypes.MLTABLE,\n",
        "    description = \"Diabetes dataset MLTable\",\n",
        "    name = data_asset_name,\n",
        "    version = data_asset_version\n",
        ")\n",
        "\n",
        "# Create the data asset in the workspace\n",
        "ml_client.data.create_or_update(my_data)"
      ],
      "outputs": [],
      "execution_count": null,
      "metadata": {
        "jupyter": {
          "source_hidden": false,
          "outputs_hidden": false
        },
        "nteract": {
          "transient": {
            "deleting": false
          }
        },
        "gather": {
          "logged": 1722480132795
        }
      }
    },
    {
      "cell_type": "markdown",
      "source": [
        "### 2.2. Read data asset"
      ],
      "metadata": {
        "nteract": {
          "transient": {
            "deleting": false
          }
        }
      }
    },
    {
      "cell_type": "code",
      "source": [
        "# Get data asset\n",
        "data_asset = ml_client.data.get(name = data_asset_name, version = data_asset_version)\n",
        "\n",
        "# Read data asset\n",
        "tbl = mltable.load(f\"azureml:/{data_asset.id}\")\n",
        "df = tbl.to_pandas_dataframe()\n",
        "df.head()"
      ],
      "outputs": [],
      "execution_count": null,
      "metadata": {
        "jupyter": {
          "source_hidden": false,
          "outputs_hidden": false
        },
        "nteract": {
          "transient": {
            "deleting": false
          }
        },
        "gather": {
          "logged": 1722480485552
        }
      }
    },
    {
      "cell_type": "code",
      "source": [
        "df.info()"
      ],
      "outputs": [],
      "execution_count": null,
      "metadata": {
        "jupyter": {
          "source_hidden": false,
          "outputs_hidden": false
        },
        "nteract": {
          "transient": {
            "deleting": false
          }
        },
        "gather": {
          "logged": 1722480495780
        }
      }
    },
    {
      "cell_type": "markdown",
      "source": [
        "## 3. Create compute resource\n",
        "\n",
        "Auto-machine needs a compute cluster to work."
      ],
      "metadata": {
        "nteract": {
          "transient": {
            "deleting": false
          }
        }
      }
    },
    {
      "cell_type": "code",
      "source": [
        "from azure.ai.ml.entities import AmlCompute\n",
        "\n",
        "cc_name = \"cc-standard-DS3-v2\"\n",
        "\n",
        "cluster_basic = AmlCompute(\n",
        "    name = cc_name,\n",
        "    type = \"amlcompute\",\n",
        "    size = \"STANDARD_DS3_v2\",\n",
        "    location = \"eastus2\",\n",
        "    min_instances = 0,\n",
        "    max_instances = 2,\n",
        "    idle_time_before_scale_down = 120,\n",
        "    tier = \"dedicated\",\n",
        ")\n",
        "\n",
        "ml_client.begin_create_or_update(cluster_basic).result()"
      ],
      "outputs": [],
      "execution_count": null,
      "metadata": {
        "jupyter": {
          "source_hidden": false,
          "outputs_hidden": false
        },
        "nteract": {
          "transient": {
            "deleting": false
          }
        },
        "gather": {
          "logged": 1722480894646
        }
      }
    },
    {
      "cell_type": "markdown",
      "source": [
        "## 4. Project code"
      ],
      "metadata": {
        "nteract": {
          "transient": {
            "deleting": false
          }
        }
      }
    },
    {
      "cell_type": "code",
      "source": [
        "from azure.ai.ml import automl\n",
        "from azure.ai.ml import Input"
      ],
      "outputs": [],
      "execution_count": null,
      "metadata": {
        "jupyter": {
          "source_hidden": false,
          "outputs_hidden": false
        },
        "nteract": {
          "transient": {
            "deleting": false
          }
        },
        "gather": {
          "logged": 1722481044401
        }
      }
    },
    {
      "cell_type": "code",
      "source": [
        "# Get data asset\n",
        "training_data_input = Input(type = AssetTypes.MLTABLE, path = f\"azureml:{data_asset_name}:{data_asset_version}\")"
      ],
      "outputs": [],
      "execution_count": null,
      "metadata": {
        "jupyter": {
          "source_hidden": false,
          "outputs_hidden": false
        },
        "nteract": {
          "transient": {
            "deleting": false
          }
        },
        "gather": {
          "logged": 1722482083289
        }
      }
    },
    {
      "cell_type": "code",
      "source": [
        "# Configure the classification job\n",
        "\n",
        "classification_job = automl.classification(\n",
        "    compute = cc_name,\n",
        "    experiment_name = \"automl-diabetes-classification\",\n",
        "    training_data = training_data_input,\n",
        "    target_column_name = \"Diabetic\",\n",
        "    primary_metric = \"accuracy\",\n",
        "    n_cross_validations = 5,\n",
        "    enable_model_explainability = True\n",
        ")"
      ],
      "outputs": [],
      "execution_count": null,
      "metadata": {
        "jupyter": {
          "source_hidden": false,
          "outputs_hidden": false
        },
        "nteract": {
          "transient": {
            "deleting": false
          }
        },
        "gather": {
          "logged": 1722482084317
        }
      }
    },
    {
      "cell_type": "code",
      "source": [
        "# Set the limits\n",
        "# Min iterations = 4\n",
        "\n",
        "classification_job.set_limits(\n",
        "    timeout_minutes = 20, \n",
        "    trial_timeout_minutes = 10, \n",
        "    max_trials = 5,\n",
        "    enable_early_termination = True,\n",
        ")"
      ],
      "outputs": [],
      "execution_count": null,
      "metadata": {
        "jupyter": {
          "source_hidden": false,
          "outputs_hidden": false
        },
        "nteract": {
          "transient": {
            "deleting": false
          }
        },
        "gather": {
          "logged": 1722482085413
        }
      }
    },
    {
      "cell_type": "code",
      "source": [
        "# Set the training properties\n",
        "\n",
        "classification_job.set_training(\n",
        "    allowed_training_algorithms = [\"LogisticRegression\", \"DecisionTree\"], \n",
        "    enable_onnx_compatible_models = True\n",
        ")"
      ],
      "outputs": [],
      "execution_count": null,
      "metadata": {
        "jupyter": {
          "source_hidden": false,
          "outputs_hidden": false
        },
        "nteract": {
          "transient": {
            "deleting": false
          }
        },
        "gather": {
          "logged": 1722482085767
        }
      }
    },
    {
      "cell_type": "code",
      "source": [
        "# Submit the AutoML job\n",
        "returned_job = ml_client.jobs.create_or_update(\n",
        "    classification_job\n",
        ")  \n",
        "\n",
        "# Submit the job to the backend\n",
        "aml_url = returned_job.studio_url\n",
        "print(\"Monitor your job at\", aml_url)"
      ],
      "outputs": [],
      "execution_count": null,
      "metadata": {
        "jupyter": {
          "source_hidden": false,
          "outputs_hidden": false
        },
        "nteract": {
          "transient": {
            "deleting": false
          }
        },
        "gather": {
          "logged": 1722482098219
        }
      }
    },
    {
      "cell_type": "code",
      "source": [],
      "outputs": [],
      "execution_count": null,
      "metadata": {
        "jupyter": {
          "source_hidden": false,
          "outputs_hidden": false
        },
        "nteract": {
          "transient": {
            "deleting": false
          }
        }
      }
    }
  ],
  "metadata": {
    "kernelspec": {
      "name": "python310-sdkv2",
      "language": "python",
      "display_name": "Python 3.10 - SDK v2"
    },
    "language_info": {
      "name": "python",
      "version": "3.10.14",
      "mimetype": "text/x-python",
      "codemirror_mode": {
        "name": "ipython",
        "version": 3
      },
      "pygments_lexer": "ipython3",
      "nbconvert_exporter": "python",
      "file_extension": ".py"
    },
    "microsoft": {
      "ms_spell_check": {
        "ms_spell_check_language": "en"
      },
      "host": {
        "AzureML": {
          "notebookHasBeenCompleted": true
        }
      }
    },
    "kernel_info": {
      "name": "python310-sdkv2"
    },
    "nteract": {
      "version": "nteract-front-end@1.0.0"
    }
  },
  "nbformat": 4,
  "nbformat_minor": 2
}